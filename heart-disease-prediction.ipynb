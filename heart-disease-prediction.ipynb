{
 "cells": [
  {
   "cell_type": "code",
   "execution_count": 1,
   "id": "29519a71",
   "metadata": {
    "_cell_guid": "b1076dfc-b9ad-4769-8c92-a6c4dae69d19",
    "_uuid": "8f2839f25d086af736a60e9eeb907d3b93b6e0e5",
    "execution": {
     "iopub.execute_input": "2024-09-21T15:50:03.542115Z",
     "iopub.status.busy": "2024-09-21T15:50:03.540799Z",
     "iopub.status.idle": "2024-09-21T15:50:04.020409Z",
     "shell.execute_reply": "2024-09-21T15:50:04.019301Z"
    },
    "papermill": {
     "duration": 0.491911,
     "end_time": "2024-09-21T15:50:04.023209",
     "exception": false,
     "start_time": "2024-09-21T15:50:03.531298",
     "status": "completed"
    },
    "tags": []
   },
   "outputs": [],
   "source": [
    "# This Python 3 environment comes with many helpful analytics libraries installed\n",
    "# It is defined by the kaggle/python Docker image: https://github.com/kaggle/docker-python\n",
    "# For example, here's several helpful packages to load\n",
    "\n",
    "import numpy as np # linear algebra\n",
    "import pandas as pd # data processing, CSV file I/O (e.g. pd.read_csv)\n",
    "\n",
    "# Input data files are available in the read-only \"../input/\" directory\n",
    "# For example, running this (by clicking run or pressing Shift+Enter) will list all files under the input directory\n",
    "\n",
    "import os\n",
    "for dirname, _, filenames in os.walk('/kaggle/input'):\n",
    "    for filename in filenames:\n",
    "        os.path.join(dirname, filename)\n",
    "\n",
    "# You can write up to 20GB to the current directory (/kaggle/working/) that gets preserved as output when you create a version using \"Save & Run All\" \n",
    "# You can also write temporary files to /kaggle/temp/, but they won't be saved outside of the current session"
   ]
  },
  {
   "cell_type": "code",
   "execution_count": 2,
   "id": "6da72112",
   "metadata": {
    "execution": {
     "iopub.execute_input": "2024-09-21T15:50:04.041088Z",
     "iopub.status.busy": "2024-09-21T15:50:04.039792Z",
     "iopub.status.idle": "2024-09-21T15:50:06.276705Z",
     "shell.execute_reply": "2024-09-21T15:50:06.275599Z"
    },
    "papermill": {
     "duration": 2.248499,
     "end_time": "2024-09-21T15:50:06.279593",
     "exception": false,
     "start_time": "2024-09-21T15:50:04.031094",
     "status": "completed"
    },
    "tags": []
   },
   "outputs": [],
   "source": [
    "import pandas as pd\n",
    "import numpy as np\n",
    "import matplotlib.pyplot as plt\n",
    "import seaborn as sns\n",
    "from sklearn.model_selection import train_test_split\n",
    "from sklearn.preprocessing import StandardScaler\n",
    "from sklearn.linear_model import LogisticRegression\n",
    "from sklearn.metrics import accuracy_score, confusion_matrix, classification_report\n"
   ]
  },
  {
   "cell_type": "code",
   "execution_count": 3,
   "id": "bcf1d21c",
   "metadata": {
    "execution": {
     "iopub.execute_input": "2024-09-21T15:50:06.295626Z",
     "iopub.status.busy": "2024-09-21T15:50:06.295002Z",
     "iopub.status.idle": "2024-09-21T15:50:06.342101Z",
     "shell.execute_reply": "2024-09-21T15:50:06.340836Z"
    },
    "papermill": {
     "duration": 0.058056,
     "end_time": "2024-09-21T15:50:06.344668",
     "exception": false,
     "start_time": "2024-09-21T15:50:06.286612",
     "status": "completed"
    },
    "tags": []
   },
   "outputs": [
    {
     "data": {
      "text/html": [
       "<div>\n",
       "<style scoped>\n",
       "    .dataframe tbody tr th:only-of-type {\n",
       "        vertical-align: middle;\n",
       "    }\n",
       "\n",
       "    .dataframe tbody tr th {\n",
       "        vertical-align: top;\n",
       "    }\n",
       "\n",
       "    .dataframe thead th {\n",
       "        text-align: right;\n",
       "    }\n",
       "</style>\n",
       "<table border=\"1\" class=\"dataframe\">\n",
       "  <thead>\n",
       "    <tr style=\"text-align: right;\">\n",
       "      <th></th>\n",
       "      <th>Age</th>\n",
       "      <th>Sex</th>\n",
       "      <th>Chest pain type</th>\n",
       "      <th>BP</th>\n",
       "      <th>Cholesterol</th>\n",
       "      <th>FBS over 120</th>\n",
       "      <th>EKG results</th>\n",
       "      <th>Max HR</th>\n",
       "      <th>Exercise angina</th>\n",
       "      <th>ST depression</th>\n",
       "      <th>Slope of ST</th>\n",
       "      <th>Number of vessels fluro</th>\n",
       "      <th>Thallium</th>\n",
       "      <th>Heart Disease</th>\n",
       "    </tr>\n",
       "  </thead>\n",
       "  <tbody>\n",
       "    <tr>\n",
       "      <th>0</th>\n",
       "      <td>70</td>\n",
       "      <td>1</td>\n",
       "      <td>4</td>\n",
       "      <td>130</td>\n",
       "      <td>322</td>\n",
       "      <td>0</td>\n",
       "      <td>2</td>\n",
       "      <td>109</td>\n",
       "      <td>0</td>\n",
       "      <td>2.4</td>\n",
       "      <td>2</td>\n",
       "      <td>3</td>\n",
       "      <td>3</td>\n",
       "      <td>Presence</td>\n",
       "    </tr>\n",
       "    <tr>\n",
       "      <th>1</th>\n",
       "      <td>67</td>\n",
       "      <td>0</td>\n",
       "      <td>3</td>\n",
       "      <td>115</td>\n",
       "      <td>564</td>\n",
       "      <td>0</td>\n",
       "      <td>2</td>\n",
       "      <td>160</td>\n",
       "      <td>0</td>\n",
       "      <td>1.6</td>\n",
       "      <td>2</td>\n",
       "      <td>0</td>\n",
       "      <td>7</td>\n",
       "      <td>Absence</td>\n",
       "    </tr>\n",
       "    <tr>\n",
       "      <th>2</th>\n",
       "      <td>57</td>\n",
       "      <td>1</td>\n",
       "      <td>2</td>\n",
       "      <td>124</td>\n",
       "      <td>261</td>\n",
       "      <td>0</td>\n",
       "      <td>0</td>\n",
       "      <td>141</td>\n",
       "      <td>0</td>\n",
       "      <td>0.3</td>\n",
       "      <td>1</td>\n",
       "      <td>0</td>\n",
       "      <td>7</td>\n",
       "      <td>Presence</td>\n",
       "    </tr>\n",
       "    <tr>\n",
       "      <th>3</th>\n",
       "      <td>64</td>\n",
       "      <td>1</td>\n",
       "      <td>4</td>\n",
       "      <td>128</td>\n",
       "      <td>263</td>\n",
       "      <td>0</td>\n",
       "      <td>0</td>\n",
       "      <td>105</td>\n",
       "      <td>1</td>\n",
       "      <td>0.2</td>\n",
       "      <td>2</td>\n",
       "      <td>1</td>\n",
       "      <td>7</td>\n",
       "      <td>Absence</td>\n",
       "    </tr>\n",
       "    <tr>\n",
       "      <th>4</th>\n",
       "      <td>74</td>\n",
       "      <td>0</td>\n",
       "      <td>2</td>\n",
       "      <td>120</td>\n",
       "      <td>269</td>\n",
       "      <td>0</td>\n",
       "      <td>2</td>\n",
       "      <td>121</td>\n",
       "      <td>1</td>\n",
       "      <td>0.2</td>\n",
       "      <td>1</td>\n",
       "      <td>1</td>\n",
       "      <td>3</td>\n",
       "      <td>Absence</td>\n",
       "    </tr>\n",
       "  </tbody>\n",
       "</table>\n",
       "</div>"
      ],
      "text/plain": [
       "   Age  Sex  Chest pain type   BP  Cholesterol  FBS over 120  EKG results  \\\n",
       "0   70    1                4  130          322             0            2   \n",
       "1   67    0                3  115          564             0            2   \n",
       "2   57    1                2  124          261             0            0   \n",
       "3   64    1                4  128          263             0            0   \n",
       "4   74    0                2  120          269             0            2   \n",
       "\n",
       "   Max HR  Exercise angina  ST depression  Slope of ST  \\\n",
       "0     109                0            2.4            2   \n",
       "1     160                0            1.6            2   \n",
       "2     141                0            0.3            1   \n",
       "3     105                1            0.2            2   \n",
       "4     121                1            0.2            1   \n",
       "\n",
       "   Number of vessels fluro  Thallium Heart Disease  \n",
       "0                        3         3      Presence  \n",
       "1                        0         7       Absence  \n",
       "2                        0         7      Presence  \n",
       "3                        1         7       Absence  \n",
       "4                        1         3       Absence  "
      ]
     },
     "execution_count": 3,
     "metadata": {},
     "output_type": "execute_result"
    }
   ],
   "source": [
    "df=pd.read_csv(\"/kaggle/input/heart-disease-prediction/Heart_Disease_Prediction.csv\")\n",
    "df.head(5)"
   ]
  },
  {
   "cell_type": "code",
   "execution_count": 4,
   "id": "a4c398ee",
   "metadata": {
    "execution": {
     "iopub.execute_input": "2024-09-21T15:50:06.361360Z",
     "iopub.status.busy": "2024-09-21T15:50:06.360922Z",
     "iopub.status.idle": "2024-09-21T15:50:06.386711Z",
     "shell.execute_reply": "2024-09-21T15:50:06.385526Z"
    },
    "papermill": {
     "duration": 0.037484,
     "end_time": "2024-09-21T15:50:06.389605",
     "exception": false,
     "start_time": "2024-09-21T15:50:06.352121",
     "status": "completed"
    },
    "tags": []
   },
   "outputs": [
    {
     "name": "stdout",
     "output_type": "stream",
     "text": [
      "<class 'pandas.core.frame.DataFrame'>\n",
      "RangeIndex: 270 entries, 0 to 269\n",
      "Data columns (total 14 columns):\n",
      " #   Column                   Non-Null Count  Dtype  \n",
      "---  ------                   --------------  -----  \n",
      " 0   Age                      270 non-null    int64  \n",
      " 1   Sex                      270 non-null    int64  \n",
      " 2   Chest pain type          270 non-null    int64  \n",
      " 3   BP                       270 non-null    int64  \n",
      " 4   Cholesterol              270 non-null    int64  \n",
      " 5   FBS over 120             270 non-null    int64  \n",
      " 6   EKG results              270 non-null    int64  \n",
      " 7   Max HR                   270 non-null    int64  \n",
      " 8   Exercise angina          270 non-null    int64  \n",
      " 9   ST depression            270 non-null    float64\n",
      " 10  Slope of ST              270 non-null    int64  \n",
      " 11  Number of vessels fluro  270 non-null    int64  \n",
      " 12  Thallium                 270 non-null    int64  \n",
      " 13  Heart Disease            270 non-null    object \n",
      "dtypes: float64(1), int64(12), object(1)\n",
      "memory usage: 29.7+ KB\n"
     ]
    }
   ],
   "source": [
    "df.info()"
   ]
  },
  {
   "cell_type": "code",
   "execution_count": 5,
   "id": "16d2194f",
   "metadata": {
    "execution": {
     "iopub.execute_input": "2024-09-21T15:50:06.407151Z",
     "iopub.status.busy": "2024-09-21T15:50:06.406025Z",
     "iopub.status.idle": "2024-09-21T15:50:06.413962Z",
     "shell.execute_reply": "2024-09-21T15:50:06.412752Z"
    },
    "papermill": {
     "duration": 0.019184,
     "end_time": "2024-09-21T15:50:06.416345",
     "exception": false,
     "start_time": "2024-09-21T15:50:06.397161",
     "status": "completed"
    },
    "tags": []
   },
   "outputs": [
    {
     "data": {
      "text/plain": [
       "(270, 14)"
      ]
     },
     "execution_count": 5,
     "metadata": {},
     "output_type": "execute_result"
    }
   ],
   "source": [
    "df.shape"
   ]
  },
  {
   "cell_type": "code",
   "execution_count": 6,
   "id": "ce91aa13",
   "metadata": {
    "execution": {
     "iopub.execute_input": "2024-09-21T15:50:06.433672Z",
     "iopub.status.busy": "2024-09-21T15:50:06.433175Z",
     "iopub.status.idle": "2024-09-21T15:50:06.439582Z",
     "shell.execute_reply": "2024-09-21T15:50:06.438403Z"
    },
    "papermill": {
     "duration": 0.018627,
     "end_time": "2024-09-21T15:50:06.442877",
     "exception": false,
     "start_time": "2024-09-21T15:50:06.424250",
     "status": "completed"
    },
    "tags": []
   },
   "outputs": [
    {
     "name": "stdout",
     "output_type": "stream",
     "text": [
      "Index(['Age', 'Sex', 'Chest pain type', 'BP', 'Cholesterol', 'FBS over 120',\n",
      "       'EKG results', 'Max HR', 'Exercise angina', 'ST depression',\n",
      "       'Slope of ST', 'Number of vessels fluro', 'Thallium', 'Heart Disease'],\n",
      "      dtype='object')\n"
     ]
    }
   ],
   "source": [
    "columns=df.columns\n",
    "print(columns)"
   ]
  },
  {
   "cell_type": "code",
   "execution_count": 7,
   "id": "6363dc44",
   "metadata": {
    "execution": {
     "iopub.execute_input": "2024-09-21T15:50:06.460552Z",
     "iopub.status.busy": "2024-09-21T15:50:06.460108Z",
     "iopub.status.idle": "2024-09-21T15:50:06.472277Z",
     "shell.execute_reply": "2024-09-21T15:50:06.471096Z"
    },
    "papermill": {
     "duration": 0.0242,
     "end_time": "2024-09-21T15:50:06.474858",
     "exception": false,
     "start_time": "2024-09-21T15:50:06.450658",
     "status": "completed"
    },
    "tags": []
   },
   "outputs": [
    {
     "data": {
      "text/plain": [
       "['Sex',\n",
       " 'Chest pain type',\n",
       " 'FBS over 120',\n",
       " 'EKG results',\n",
       " 'Exercise angina',\n",
       " 'Slope of ST',\n",
       " 'Number of vessels fluro',\n",
       " 'Thallium',\n",
       " 'Heart Disease']"
      ]
     },
     "execution_count": 7,
     "metadata": {},
     "output_type": "execute_result"
    }
   ],
   "source": [
    "category_col= [col for col in df.columns if df[col].nunique() < 10]\n",
    "category_col"
   ]
  },
  {
   "cell_type": "code",
   "execution_count": 8,
   "id": "3d70470a",
   "metadata": {
    "execution": {
     "iopub.execute_input": "2024-09-21T15:50:06.492805Z",
     "iopub.status.busy": "2024-09-21T15:50:06.491888Z",
     "iopub.status.idle": "2024-09-21T15:50:06.505798Z",
     "shell.execute_reply": "2024-09-21T15:50:06.504648Z"
    },
    "papermill": {
     "duration": 0.026587,
     "end_time": "2024-09-21T15:50:06.509266",
     "exception": false,
     "start_time": "2024-09-21T15:50:06.482679",
     "status": "completed"
    },
    "tags": []
   },
   "outputs": [
    {
     "name": "stdout",
     "output_type": "stream",
     "text": [
      "Sex\n",
      "1    183\n",
      "0     87\n",
      "Name: count, dtype: int64\n",
      "Chest pain type\n",
      "4    129\n",
      "3     79\n",
      "2     42\n",
      "1     20\n",
      "Name: count, dtype: int64\n",
      "FBS over 120\n",
      "0    230\n",
      "1     40\n",
      "Name: count, dtype: int64\n",
      "EKG results\n",
      "2    137\n",
      "0    131\n",
      "1      2\n",
      "Name: count, dtype: int64\n",
      "Exercise angina\n",
      "0    181\n",
      "1     89\n",
      "Name: count, dtype: int64\n",
      "Slope of ST\n",
      "1    130\n",
      "2    122\n",
      "3     18\n",
      "Name: count, dtype: int64\n",
      "Number of vessels fluro\n",
      "0    160\n",
      "1     58\n",
      "2     33\n",
      "3     19\n",
      "Name: count, dtype: int64\n",
      "Thallium\n",
      "3    152\n",
      "7    104\n",
      "6     14\n",
      "Name: count, dtype: int64\n",
      "Heart Disease\n",
      "Absence     150\n",
      "Presence    120\n",
      "Name: count, dtype: int64\n"
     ]
    }
   ],
   "source": [
    "for col in category_col:\n",
    "    print(df[col].value_counts())"
   ]
  },
  {
   "cell_type": "code",
   "execution_count": 9,
   "id": "02521ef7",
   "metadata": {
    "execution": {
     "iopub.execute_input": "2024-09-21T15:50:06.527886Z",
     "iopub.status.busy": "2024-09-21T15:50:06.527400Z",
     "iopub.status.idle": "2024-09-21T15:50:06.537112Z",
     "shell.execute_reply": "2024-09-21T15:50:06.535877Z"
    },
    "papermill": {
     "duration": 0.022325,
     "end_time": "2024-09-21T15:50:06.539700",
     "exception": false,
     "start_time": "2024-09-21T15:50:06.517375",
     "status": "completed"
    },
    "tags": []
   },
   "outputs": [],
   "source": [
    "df.drop(['Sex','Exercise angina','Slope of ST','Number of vessels fluro','Thallium','Max HR'],inplace=True,axis=1)"
   ]
  },
  {
   "cell_type": "code",
   "execution_count": 10,
   "id": "610941d5",
   "metadata": {
    "execution": {
     "iopub.execute_input": "2024-09-21T15:50:06.557647Z",
     "iopub.status.busy": "2024-09-21T15:50:06.557190Z",
     "iopub.status.idle": "2024-09-21T15:50:06.578336Z",
     "shell.execute_reply": "2024-09-21T15:50:06.577035Z"
    },
    "papermill": {
     "duration": 0.033588,
     "end_time": "2024-09-21T15:50:06.581322",
     "exception": false,
     "start_time": "2024-09-21T15:50:06.547734",
     "status": "completed"
    },
    "tags": []
   },
   "outputs": [
    {
     "data": {
      "text/html": [
       "<div>\n",
       "<style scoped>\n",
       "    .dataframe tbody tr th:only-of-type {\n",
       "        vertical-align: middle;\n",
       "    }\n",
       "\n",
       "    .dataframe tbody tr th {\n",
       "        vertical-align: top;\n",
       "    }\n",
       "\n",
       "    .dataframe thead th {\n",
       "        text-align: right;\n",
       "    }\n",
       "</style>\n",
       "<table border=\"1\" class=\"dataframe\">\n",
       "  <thead>\n",
       "    <tr style=\"text-align: right;\">\n",
       "      <th></th>\n",
       "      <th>Age</th>\n",
       "      <th>Chest pain type</th>\n",
       "      <th>BP</th>\n",
       "      <th>Cholesterol</th>\n",
       "      <th>FBS over 120</th>\n",
       "      <th>EKG results</th>\n",
       "      <th>ST depression</th>\n",
       "      <th>Heart Disease</th>\n",
       "    </tr>\n",
       "  </thead>\n",
       "  <tbody>\n",
       "    <tr>\n",
       "      <th>0</th>\n",
       "      <td>70</td>\n",
       "      <td>4</td>\n",
       "      <td>130</td>\n",
       "      <td>322</td>\n",
       "      <td>0</td>\n",
       "      <td>2</td>\n",
       "      <td>2.4</td>\n",
       "      <td>Presence</td>\n",
       "    </tr>\n",
       "    <tr>\n",
       "      <th>1</th>\n",
       "      <td>67</td>\n",
       "      <td>3</td>\n",
       "      <td>115</td>\n",
       "      <td>564</td>\n",
       "      <td>0</td>\n",
       "      <td>2</td>\n",
       "      <td>1.6</td>\n",
       "      <td>Absence</td>\n",
       "    </tr>\n",
       "    <tr>\n",
       "      <th>2</th>\n",
       "      <td>57</td>\n",
       "      <td>2</td>\n",
       "      <td>124</td>\n",
       "      <td>261</td>\n",
       "      <td>0</td>\n",
       "      <td>0</td>\n",
       "      <td>0.3</td>\n",
       "      <td>Presence</td>\n",
       "    </tr>\n",
       "    <tr>\n",
       "      <th>3</th>\n",
       "      <td>64</td>\n",
       "      <td>4</td>\n",
       "      <td>128</td>\n",
       "      <td>263</td>\n",
       "      <td>0</td>\n",
       "      <td>0</td>\n",
       "      <td>0.2</td>\n",
       "      <td>Absence</td>\n",
       "    </tr>\n",
       "    <tr>\n",
       "      <th>4</th>\n",
       "      <td>74</td>\n",
       "      <td>2</td>\n",
       "      <td>120</td>\n",
       "      <td>269</td>\n",
       "      <td>0</td>\n",
       "      <td>2</td>\n",
       "      <td>0.2</td>\n",
       "      <td>Absence</td>\n",
       "    </tr>\n",
       "    <tr>\n",
       "      <th>...</th>\n",
       "      <td>...</td>\n",
       "      <td>...</td>\n",
       "      <td>...</td>\n",
       "      <td>...</td>\n",
       "      <td>...</td>\n",
       "      <td>...</td>\n",
       "      <td>...</td>\n",
       "      <td>...</td>\n",
       "    </tr>\n",
       "    <tr>\n",
       "      <th>265</th>\n",
       "      <td>52</td>\n",
       "      <td>3</td>\n",
       "      <td>172</td>\n",
       "      <td>199</td>\n",
       "      <td>1</td>\n",
       "      <td>0</td>\n",
       "      <td>0.5</td>\n",
       "      <td>Absence</td>\n",
       "    </tr>\n",
       "    <tr>\n",
       "      <th>266</th>\n",
       "      <td>44</td>\n",
       "      <td>2</td>\n",
       "      <td>120</td>\n",
       "      <td>263</td>\n",
       "      <td>0</td>\n",
       "      <td>0</td>\n",
       "      <td>0.0</td>\n",
       "      <td>Absence</td>\n",
       "    </tr>\n",
       "    <tr>\n",
       "      <th>267</th>\n",
       "      <td>56</td>\n",
       "      <td>2</td>\n",
       "      <td>140</td>\n",
       "      <td>294</td>\n",
       "      <td>0</td>\n",
       "      <td>2</td>\n",
       "      <td>1.3</td>\n",
       "      <td>Absence</td>\n",
       "    </tr>\n",
       "    <tr>\n",
       "      <th>268</th>\n",
       "      <td>57</td>\n",
       "      <td>4</td>\n",
       "      <td>140</td>\n",
       "      <td>192</td>\n",
       "      <td>0</td>\n",
       "      <td>0</td>\n",
       "      <td>0.4</td>\n",
       "      <td>Absence</td>\n",
       "    </tr>\n",
       "    <tr>\n",
       "      <th>269</th>\n",
       "      <td>67</td>\n",
       "      <td>4</td>\n",
       "      <td>160</td>\n",
       "      <td>286</td>\n",
       "      <td>0</td>\n",
       "      <td>2</td>\n",
       "      <td>1.5</td>\n",
       "      <td>Presence</td>\n",
       "    </tr>\n",
       "  </tbody>\n",
       "</table>\n",
       "<p>270 rows × 8 columns</p>\n",
       "</div>"
      ],
      "text/plain": [
       "     Age  Chest pain type   BP  Cholesterol  FBS over 120  EKG results  \\\n",
       "0     70                4  130          322             0            2   \n",
       "1     67                3  115          564             0            2   \n",
       "2     57                2  124          261             0            0   \n",
       "3     64                4  128          263             0            0   \n",
       "4     74                2  120          269             0            2   \n",
       "..   ...              ...  ...          ...           ...          ...   \n",
       "265   52                3  172          199             1            0   \n",
       "266   44                2  120          263             0            0   \n",
       "267   56                2  140          294             0            2   \n",
       "268   57                4  140          192             0            0   \n",
       "269   67                4  160          286             0            2   \n",
       "\n",
       "     ST depression Heart Disease  \n",
       "0              2.4      Presence  \n",
       "1              1.6       Absence  \n",
       "2              0.3      Presence  \n",
       "3              0.2       Absence  \n",
       "4              0.2       Absence  \n",
       "..             ...           ...  \n",
       "265            0.5       Absence  \n",
       "266            0.0       Absence  \n",
       "267            1.3       Absence  \n",
       "268            0.4       Absence  \n",
       "269            1.5      Presence  \n",
       "\n",
       "[270 rows x 8 columns]"
      ]
     },
     "execution_count": 10,
     "metadata": {},
     "output_type": "execute_result"
    }
   ],
   "source": [
    "df"
   ]
  },
  {
   "cell_type": "code",
   "execution_count": 11,
   "id": "7c04c593",
   "metadata": {
    "execution": {
     "iopub.execute_input": "2024-09-21T15:50:06.600576Z",
     "iopub.status.busy": "2024-09-21T15:50:06.600118Z",
     "iopub.status.idle": "2024-09-21T15:50:06.607236Z",
     "shell.execute_reply": "2024-09-21T15:50:06.605965Z"
    },
    "papermill": {
     "duration": 0.019959,
     "end_time": "2024-09-21T15:50:06.609786",
     "exception": false,
     "start_time": "2024-09-21T15:50:06.589827",
     "status": "completed"
    },
    "tags": []
   },
   "outputs": [],
   "source": [
    "mapping = {'Presence': 1, 'Absence': 0}\n",
    "df['Heart Disease'] = df['Heart Disease'].map(mapping)"
   ]
  },
  {
   "cell_type": "code",
   "execution_count": 12,
   "id": "5a74964d",
   "metadata": {
    "execution": {
     "iopub.execute_input": "2024-09-21T15:50:06.629313Z",
     "iopub.status.busy": "2024-09-21T15:50:06.628834Z",
     "iopub.status.idle": "2024-09-21T15:50:06.636191Z",
     "shell.execute_reply": "2024-09-21T15:50:06.634707Z"
    },
    "papermill": {
     "duration": 0.020504,
     "end_time": "2024-09-21T15:50:06.638846",
     "exception": false,
     "start_time": "2024-09-21T15:50:06.618342",
     "status": "completed"
    },
    "tags": []
   },
   "outputs": [],
   "source": [
    "x=df.drop('Heart Disease', axis=1)\n",
    "y=df['Heart Disease']"
   ]
  },
  {
   "cell_type": "code",
   "execution_count": 13,
   "id": "d0a692a6",
   "metadata": {
    "execution": {
     "iopub.execute_input": "2024-09-21T15:50:06.659773Z",
     "iopub.status.busy": "2024-09-21T15:50:06.659293Z",
     "iopub.status.idle": "2024-09-21T15:50:06.678275Z",
     "shell.execute_reply": "2024-09-21T15:50:06.677133Z"
    },
    "papermill": {
     "duration": 0.033513,
     "end_time": "2024-09-21T15:50:06.681186",
     "exception": false,
     "start_time": "2024-09-21T15:50:06.647673",
     "status": "completed"
    },
    "tags": []
   },
   "outputs": [],
   "source": [
    "X_train, X_test, y_train, y_test = train_test_split(x, y, test_size=0.2, random_state=42)\n",
    "\n",
    "# Standardize the features\n",
    "scaler = StandardScaler()\n",
    "X_train = scaler.fit_transform(X_train)\n",
    "X_test = scaler.transform(X_test)"
   ]
  },
  {
   "cell_type": "code",
   "execution_count": 14,
   "id": "fb26dc55",
   "metadata": {
    "execution": {
     "iopub.execute_input": "2024-09-21T15:50:06.699812Z",
     "iopub.status.busy": "2024-09-21T15:50:06.699370Z",
     "iopub.status.idle": "2024-09-21T15:50:06.731592Z",
     "shell.execute_reply": "2024-09-21T15:50:06.730394Z"
    },
    "papermill": {
     "duration": 0.044661,
     "end_time": "2024-09-21T15:50:06.734262",
     "exception": false,
     "start_time": "2024-09-21T15:50:06.689601",
     "status": "completed"
    },
    "tags": []
   },
   "outputs": [
    {
     "data": {
      "text/plain": [
       "(0.6851851851851852,\n",
       " array([[25,  8],\n",
       "        [ 9, 12]]))"
      ]
     },
     "execution_count": 14,
     "metadata": {},
     "output_type": "execute_result"
    }
   ],
   "source": [
    "model = LogisticRegression()\n",
    "model.fit(X_train, y_train)\n",
    "\n",
    "# Make predictions\n",
    "y_pred = model.predict(X_test)\n",
    "\n",
    "# Evaluate the model\n",
    "accuracy = accuracy_score(y_test, y_pred)\n",
    "conf_matrix = confusion_matrix(y_test, y_pred)\n",
    "class_report = classification_report(y_test, y_pred)\n",
    "\n",
    "accuracy, conf_matrix"
   ]
  },
  {
   "cell_type": "code",
   "execution_count": 15,
   "id": "8b2f1c92",
   "metadata": {
    "execution": {
     "iopub.execute_input": "2024-09-21T15:50:06.753534Z",
     "iopub.status.busy": "2024-09-21T15:50:06.753080Z",
     "iopub.status.idle": "2024-09-21T15:50:06.759639Z",
     "shell.execute_reply": "2024-09-21T15:50:06.758427Z"
    },
    "papermill": {
     "duration": 0.019275,
     "end_time": "2024-09-21T15:50:06.762296",
     "exception": false,
     "start_time": "2024-09-21T15:50:06.743021",
     "status": "completed"
    },
    "tags": []
   },
   "outputs": [
    {
     "name": "stdout",
     "output_type": "stream",
     "text": [
      "              precision    recall  f1-score   support\n",
      "\n",
      "           0       0.74      0.76      0.75        33\n",
      "           1       0.60      0.57      0.59        21\n",
      "\n",
      "    accuracy                           0.69        54\n",
      "   macro avg       0.67      0.66      0.67        54\n",
      "weighted avg       0.68      0.69      0.68        54\n",
      "\n"
     ]
    }
   ],
   "source": [
    "print(class_report)"
   ]
  },
  {
   "cell_type": "code",
   "execution_count": 16,
   "id": "00489e6a",
   "metadata": {
    "execution": {
     "iopub.execute_input": "2024-09-21T15:50:06.782074Z",
     "iopub.status.busy": "2024-09-21T15:50:06.781569Z",
     "iopub.status.idle": "2024-09-21T15:50:07.224114Z",
     "shell.execute_reply": "2024-09-21T15:50:07.222745Z"
    },
    "papermill": {
     "duration": 0.455514,
     "end_time": "2024-09-21T15:50:07.226811",
     "exception": false,
     "start_time": "2024-09-21T15:50:06.771297",
     "status": "completed"
    },
    "tags": []
   },
   "outputs": [
    {
     "data": {
      "text/plain": [
       "(0.6481481481481481,\n",
       " array([[25,  8],\n",
       "        [11, 10]]))"
      ]
     },
     "execution_count": 16,
     "metadata": {},
     "output_type": "execute_result"
    }
   ],
   "source": [
    "from sklearn.ensemble import RandomForestClassifier \n",
    "\n",
    "rfc = RandomForestClassifier() \n",
    "rfc.fit(X_train, y_train) \n",
    "\n",
    "yPred = rfc.predict(X_test)\n",
    "accuracy = accuracy_score(y_test, yPred)\n",
    "conf_matrix = confusion_matrix(y_test, yPred)\n",
    "accuracy,conf_matrix"
   ]
  },
  {
   "cell_type": "code",
   "execution_count": 17,
   "id": "b7ea1579",
   "metadata": {
    "execution": {
     "iopub.execute_input": "2024-09-21T15:50:07.247962Z",
     "iopub.status.busy": "2024-09-21T15:50:07.247462Z",
     "iopub.status.idle": "2024-09-21T15:50:07.265696Z",
     "shell.execute_reply": "2024-09-21T15:50:07.264169Z"
    },
    "papermill": {
     "duration": 0.03229,
     "end_time": "2024-09-21T15:50:07.268713",
     "exception": false,
     "start_time": "2024-09-21T15:50:07.236423",
     "status": "completed"
    },
    "tags": []
   },
   "outputs": [
    {
     "name": "stdout",
     "output_type": "stream",
     "text": [
      "Accuracy of the SVM model is = 0.6666666666666666\n",
      "[[25  8]\n",
      " [11 10]]\n"
     ]
    }
   ],
   "source": [
    "from sklearn.svm import SVC\n",
    "from sklearn.metrics import accuracy_score\n",
    "\n",
    "# Assuming X_train, X_test, y_train, and y_test are your training and testing data\n",
    "# Initialize SVM classifier\n",
    "svm_model = SVC()\n",
    "\n",
    "# Train the SVM model\n",
    "svm_model.fit(X_train, y_train)\n",
    "\n",
    "# Make predictions on the test set\n",
    "y_pred_svm = svm_model.predict(X_test)\n",
    "\n",
    "# Calculate accuracy\n",
    "accuracy = accuracy_score(y_test, y_pred_svm)\n",
    "print('Accuracy of the SVM model is =', accuracy)\n",
    "conf_matrix = confusion_matrix(y_test, yPred)\n",
    "print(conf_matrix)"
   ]
  },
  {
   "cell_type": "code",
   "execution_count": 18,
   "id": "ad664480",
   "metadata": {
    "execution": {
     "iopub.execute_input": "2024-09-21T15:50:07.293563Z",
     "iopub.status.busy": "2024-09-21T15:50:07.291786Z",
     "iopub.status.idle": "2024-09-21T15:50:07.300179Z",
     "shell.execute_reply": "2024-09-21T15:50:07.298538Z"
    },
    "papermill": {
     "duration": 0.025848,
     "end_time": "2024-09-21T15:50:07.303978",
     "exception": false,
     "start_time": "2024-09-21T15:50:07.278130",
     "status": "completed"
    },
    "tags": []
   },
   "outputs": [],
   "source": [
    "import pickle\n",
    "pickle.dump(model,open('/kaggle/working/model.pkl','wb'))"
   ]
  },
  {
   "cell_type": "code",
   "execution_count": 19,
   "id": "1cb7f716",
   "metadata": {
    "execution": {
     "iopub.execute_input": "2024-09-21T15:50:07.330834Z",
     "iopub.status.busy": "2024-09-21T15:50:07.330038Z",
     "iopub.status.idle": "2024-09-21T15:50:07.348856Z",
     "shell.execute_reply": "2024-09-21T15:50:07.347386Z"
    },
    "papermill": {
     "duration": 0.036006,
     "end_time": "2024-09-21T15:50:07.351994",
     "exception": false,
     "start_time": "2024-09-21T15:50:07.315988",
     "status": "completed"
    },
    "tags": []
   },
   "outputs": [],
   "source": [
    "df.to_csv('/kaggle/working/data.csv', index=False)"
   ]
  }
 ],
 "metadata": {
  "kaggle": {
   "accelerator": "none",
   "dataSources": [
    {
     "datasetId": 841679,
     "sourceId": 1436563,
     "sourceType": "datasetVersion"
    }
   ],
   "dockerImageVersionId": 30761,
   "isGpuEnabled": false,
   "isInternetEnabled": true,
   "language": "python",
   "sourceType": "notebook"
  },
  "kernelspec": {
   "display_name": "Python 3",
   "language": "python",
   "name": "python3"
  },
  "language_info": {
   "codemirror_mode": {
    "name": "ipython",
    "version": 3
   },
   "file_extension": ".py",
   "mimetype": "text/x-python",
   "name": "python",
   "nbconvert_exporter": "python",
   "pygments_lexer": "ipython3",
   "version": "3.10.14"
  },
  "papermill": {
   "default_parameters": {},
   "duration": 7.680687,
   "end_time": "2024-09-21T15:50:08.084736",
   "environment_variables": {},
   "exception": null,
   "input_path": "__notebook__.ipynb",
   "output_path": "__notebook__.ipynb",
   "parameters": {},
   "start_time": "2024-09-21T15:50:00.404049",
   "version": "2.6.0"
  }
 },
 "nbformat": 4,
 "nbformat_minor": 5
}
