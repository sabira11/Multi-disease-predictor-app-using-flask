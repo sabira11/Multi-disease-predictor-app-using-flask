{
 "cells": [
  {
   "cell_type": "code",
   "execution_count": 1,
   "id": "923771b3",
   "metadata": {
    "_cell_guid": "b1076dfc-b9ad-4769-8c92-a6c4dae69d19",
    "_uuid": "8f2839f25d086af736a60e9eeb907d3b93b6e0e5",
    "execution": {
     "iopub.execute_input": "2024-09-26T03:12:28.724270Z",
     "iopub.status.busy": "2024-09-26T03:12:28.722348Z",
     "iopub.status.idle": "2024-09-26T03:12:29.574850Z",
     "shell.execute_reply": "2024-09-26T03:12:29.573728Z"
    },
    "papermill": {
     "duration": 0.863179,
     "end_time": "2024-09-26T03:12:29.577423",
     "exception": false,
     "start_time": "2024-09-26T03:12:28.714244",
     "status": "completed"
    },
    "tags": []
   },
   "outputs": [],
   "source": [
    "# This Python 3 environment comes with many helpful analytics libraries installed\n",
    "# It is defined by the kaggle/python Docker image: https://github.com/kaggle/docker-python\n",
    "# For example, here's several helpful packages to load\n",
    "\n",
    "import numpy as np # linear algebra\n",
    "import pandas as pd # data processing, CSV file I/O (e.g. pd.read_csv)\n",
    "\n",
    "# Input data files are available in the read-only \"../input/\" directory\n",
    "# For example, running this (by clicking run or pressing Shift+Enter) will list all files under the input directory\n",
    "\n",
    "import os\n",
    "for dirname, _, filenames in os.walk('/kaggle/input'):\n",
    "    for filename in filenames:\n",
    "        os.path.join(dirname, filename)\n",
    "\n",
    "# You can write up to 20GB to the current directory (/kaggle/working/) that gets preserved as output when you create a version using \"Save & Run All\" \n",
    "# You can also write temporary files to /kaggle/temp/, but they won't be saved outside of the current session"
   ]
  },
  {
   "cell_type": "code",
   "execution_count": 2,
   "id": "564cbe27",
   "metadata": {
    "execution": {
     "iopub.execute_input": "2024-09-26T03:12:29.592701Z",
     "iopub.status.busy": "2024-09-26T03:12:29.591514Z",
     "iopub.status.idle": "2024-09-26T03:12:31.588189Z",
     "shell.execute_reply": "2024-09-26T03:12:31.586814Z"
    },
    "papermill": {
     "duration": 2.006883,
     "end_time": "2024-09-26T03:12:31.591163",
     "exception": false,
     "start_time": "2024-09-26T03:12:29.584280",
     "status": "completed"
    },
    "tags": []
   },
   "outputs": [],
   "source": [
    "\n",
    "import numpy as np \n",
    "import pandas as pd\n",
    "import seaborn as sns\n",
    "import matplotlib.pyplot as plt\n",
    "from sklearn.metrics import accuracy_score\n",
    "from sklearn.model_selection import train_test_split\n",
    "from sklearn import svm\n",
    "from sklearn.preprocessing import StandardScaler"
   ]
  },
  {
   "cell_type": "code",
   "execution_count": 3,
   "id": "ef25fa05",
   "metadata": {
    "execution": {
     "iopub.execute_input": "2024-09-26T03:12:31.604299Z",
     "iopub.status.busy": "2024-09-26T03:12:31.603650Z",
     "iopub.status.idle": "2024-09-26T03:12:31.643164Z",
     "shell.execute_reply": "2024-09-26T03:12:31.641901Z"
    },
    "papermill": {
     "duration": 0.048665,
     "end_time": "2024-09-26T03:12:31.645544",
     "exception": false,
     "start_time": "2024-09-26T03:12:31.596879",
     "status": "completed"
    },
    "tags": []
   },
   "outputs": [
    {
     "data": {
      "text/html": [
       "<div>\n",
       "<style scoped>\n",
       "    .dataframe tbody tr th:only-of-type {\n",
       "        vertical-align: middle;\n",
       "    }\n",
       "\n",
       "    .dataframe tbody tr th {\n",
       "        vertical-align: top;\n",
       "    }\n",
       "\n",
       "    .dataframe thead th {\n",
       "        text-align: right;\n",
       "    }\n",
       "</style>\n",
       "<table border=\"1\" class=\"dataframe\">\n",
       "  <thead>\n",
       "    <tr style=\"text-align: right;\">\n",
       "      <th></th>\n",
       "      <th>Pregnancies</th>\n",
       "      <th>Glucose</th>\n",
       "      <th>BloodPressure</th>\n",
       "      <th>SkinThickness</th>\n",
       "      <th>Insulin</th>\n",
       "      <th>BMI</th>\n",
       "      <th>DiabetesPedigreeFunction</th>\n",
       "      <th>Age</th>\n",
       "      <th>Outcome</th>\n",
       "    </tr>\n",
       "  </thead>\n",
       "  <tbody>\n",
       "    <tr>\n",
       "      <th>0</th>\n",
       "      <td>6</td>\n",
       "      <td>148</td>\n",
       "      <td>72</td>\n",
       "      <td>35</td>\n",
       "      <td>0</td>\n",
       "      <td>33.6</td>\n",
       "      <td>0.627</td>\n",
       "      <td>50</td>\n",
       "      <td>1</td>\n",
       "    </tr>\n",
       "    <tr>\n",
       "      <th>1</th>\n",
       "      <td>1</td>\n",
       "      <td>85</td>\n",
       "      <td>66</td>\n",
       "      <td>29</td>\n",
       "      <td>0</td>\n",
       "      <td>26.6</td>\n",
       "      <td>0.351</td>\n",
       "      <td>31</td>\n",
       "      <td>0</td>\n",
       "    </tr>\n",
       "    <tr>\n",
       "      <th>2</th>\n",
       "      <td>8</td>\n",
       "      <td>183</td>\n",
       "      <td>64</td>\n",
       "      <td>0</td>\n",
       "      <td>0</td>\n",
       "      <td>23.3</td>\n",
       "      <td>0.672</td>\n",
       "      <td>32</td>\n",
       "      <td>1</td>\n",
       "    </tr>\n",
       "    <tr>\n",
       "      <th>3</th>\n",
       "      <td>1</td>\n",
       "      <td>89</td>\n",
       "      <td>66</td>\n",
       "      <td>23</td>\n",
       "      <td>94</td>\n",
       "      <td>28.1</td>\n",
       "      <td>0.167</td>\n",
       "      <td>21</td>\n",
       "      <td>0</td>\n",
       "    </tr>\n",
       "    <tr>\n",
       "      <th>4</th>\n",
       "      <td>0</td>\n",
       "      <td>137</td>\n",
       "      <td>40</td>\n",
       "      <td>35</td>\n",
       "      <td>168</td>\n",
       "      <td>43.1</td>\n",
       "      <td>2.288</td>\n",
       "      <td>33</td>\n",
       "      <td>1</td>\n",
       "    </tr>\n",
       "  </tbody>\n",
       "</table>\n",
       "</div>"
      ],
      "text/plain": [
       "   Pregnancies  Glucose  BloodPressure  SkinThickness  Insulin   BMI  \\\n",
       "0            6      148             72             35        0  33.6   \n",
       "1            1       85             66             29        0  26.6   \n",
       "2            8      183             64              0        0  23.3   \n",
       "3            1       89             66             23       94  28.1   \n",
       "4            0      137             40             35      168  43.1   \n",
       "\n",
       "   DiabetesPedigreeFunction  Age  Outcome  \n",
       "0                     0.627   50        1  \n",
       "1                     0.351   31        0  \n",
       "2                     0.672   32        1  \n",
       "3                     0.167   21        0  \n",
       "4                     2.288   33        1  "
      ]
     },
     "execution_count": 3,
     "metadata": {},
     "output_type": "execute_result"
    }
   ],
   "source": [
    "data=pd.read_csv('/kaggle/input/diabetes-detection-using-logistic-reg-eda/diabetes.csv')\n",
    "data.head()"
   ]
  },
  {
   "cell_type": "code",
   "execution_count": 4,
   "id": "8661c942",
   "metadata": {
    "execution": {
     "iopub.execute_input": "2024-09-26T03:12:31.659040Z",
     "iopub.status.busy": "2024-09-26T03:12:31.658579Z",
     "iopub.status.idle": "2024-09-26T03:12:31.682273Z",
     "shell.execute_reply": "2024-09-26T03:12:31.681202Z"
    },
    "papermill": {
     "duration": 0.033469,
     "end_time": "2024-09-26T03:12:31.685090",
     "exception": false,
     "start_time": "2024-09-26T03:12:31.651621",
     "status": "completed"
    },
    "tags": []
   },
   "outputs": [
    {
     "name": "stdout",
     "output_type": "stream",
     "text": [
      "<class 'pandas.core.frame.DataFrame'>\n",
      "RangeIndex: 768 entries, 0 to 767\n",
      "Data columns (total 9 columns):\n",
      " #   Column                    Non-Null Count  Dtype  \n",
      "---  ------                    --------------  -----  \n",
      " 0   Pregnancies               768 non-null    int64  \n",
      " 1   Glucose                   768 non-null    int64  \n",
      " 2   BloodPressure             768 non-null    int64  \n",
      " 3   SkinThickness             768 non-null    int64  \n",
      " 4   Insulin                   768 non-null    int64  \n",
      " 5   BMI                       768 non-null    float64\n",
      " 6   DiabetesPedigreeFunction  768 non-null    float64\n",
      " 7   Age                       768 non-null    int64  \n",
      " 8   Outcome                   768 non-null    int64  \n",
      "dtypes: float64(2), int64(7)\n",
      "memory usage: 54.1 KB\n",
      "None\n",
      "(768, 9)\n"
     ]
    }
   ],
   "source": [
    "print(data.info())\n",
    "print(data.shape)"
   ]
  },
  {
   "cell_type": "code",
   "execution_count": 5,
   "id": "575fb4b2",
   "metadata": {
    "execution": {
     "iopub.execute_input": "2024-09-26T03:12:31.698922Z",
     "iopub.status.busy": "2024-09-26T03:12:31.698504Z",
     "iopub.status.idle": "2024-09-26T03:12:31.863035Z",
     "shell.execute_reply": "2024-09-26T03:12:31.861883Z"
    },
    "papermill": {
     "duration": 0.174457,
     "end_time": "2024-09-26T03:12:31.865721",
     "exception": false,
     "start_time": "2024-09-26T03:12:31.691264",
     "status": "completed"
    },
    "tags": []
   },
   "outputs": [
    {
     "data": {
      "image/png": "[encoded data removed]",
      "text/plain": [
       "<Figure size 500x300 with 1 Axes>"
      ]
     },
     "metadata": {},
     "output_type": "display_data"
    }
   ],
   "source": [
    "plt.figure(figsize=(5,3))\n",
    "sns.countplot(x=\"Outcome\" , data = data)\n",
    "plt.show()"
   ]
  },
  {
   "cell_type": "code",
   "execution_count": 6,
   "id": "8a7aaafc",
   "metadata": {
    "execution": {
     "iopub.execute_input": "2024-09-26T03:12:31.882030Z",
     "iopub.status.busy": "2024-09-26T03:12:31.880869Z",
     "iopub.status.idle": "2024-09-26T03:12:31.888973Z",
     "shell.execute_reply": "2024-09-26T03:12:31.887812Z"
    },
    "papermill": {
     "duration": 0.019091,
     "end_time": "2024-09-26T03:12:31.891424",
     "exception": false,
     "start_time": "2024-09-26T03:12:31.872333",
     "status": "completed"
    },
    "tags": []
   },
   "outputs": [],
   "source": [
    "\n",
    "\n",
    "x=data.drop(columns = 'Outcome', axis=1)\n",
    "y=data[\"Outcome\"]\n",
    "\n"
   ]
  },
  {
   "cell_type": "code",
   "execution_count": 7,
   "id": "e90af576",
   "metadata": {
    "execution": {
     "iopub.execute_input": "2024-09-26T03:12:31.907655Z",
     "iopub.status.busy": "2024-09-26T03:12:31.906494Z",
     "iopub.status.idle": "2024-09-26T03:12:31.917949Z",
     "shell.execute_reply": "2024-09-26T03:12:31.916537Z"
    },
    "papermill": {
     "duration": 0.021531,
     "end_time": "2024-09-26T03:12:31.920229",
     "exception": false,
     "start_time": "2024-09-26T03:12:31.898698",
     "status": "completed"
    },
    "tags": []
   },
   "outputs": [
    {
     "name": "stdout",
     "output_type": "stream",
     "text": [
      "[[ 0.63994726  0.84832379  0.14964075 ...  0.20401277  0.46849198\n",
      "   1.4259954 ]\n",
      " [-0.84488505 -1.12339636 -0.16054575 ... -0.68442195 -0.36506078\n",
      "  -0.19067191]\n",
      " [ 1.23388019  1.94372388 -0.26394125 ... -1.10325546  0.60439732\n",
      "  -0.10558415]\n",
      " ...\n",
      " [ 0.3429808   0.00330087  0.14964075 ... -0.73518964 -0.68519336\n",
      "  -0.27575966]\n",
      " [-0.84488505  0.1597866  -0.47073225 ... -0.24020459 -0.37110101\n",
      "   1.17073215]\n",
      " [-0.84488505 -0.8730192   0.04624525 ... -0.20212881 -0.47378505\n",
      "  -0.87137393]]\n"
     ]
    }
   ],
   "source": [
    "scaler=StandardScaler()\n",
    "x_scaler=scaler.fit_transform(x)\n",
    "print(x_scaler)"
   ]
  },
  {
   "cell_type": "code",
   "execution_count": 8,
   "id": "1dc2dd7a",
   "metadata": {
    "execution": {
     "iopub.execute_input": "2024-09-26T03:12:31.935336Z",
     "iopub.status.busy": "2024-09-26T03:12:31.934400Z",
     "iopub.status.idle": "2024-09-26T03:12:31.943530Z",
     "shell.execute_reply": "2024-09-26T03:12:31.942505Z"
    },
    "papermill": {
     "duration": 0.019815,
     "end_time": "2024-09-26T03:12:31.946385",
     "exception": false,
     "start_time": "2024-09-26T03:12:31.926570",
     "status": "completed"
    },
    "tags": []
   },
   "outputs": [],
   "source": [
    "train_x,test_x,train_y, test_y=train_test_split(x_scaler,y,test_size = 0.2, stratify=y, random_state=1)"
   ]
  },
  {
   "cell_type": "code",
   "execution_count": 9,
   "id": "12fd439e",
   "metadata": {
    "execution": {
     "iopub.execute_input": "2024-09-26T03:12:31.960812Z",
     "iopub.status.busy": "2024-09-26T03:12:31.960366Z",
     "iopub.status.idle": "2024-09-26T03:12:31.966874Z",
     "shell.execute_reply": "2024-09-26T03:12:31.965818Z"
    },
    "papermill": {
     "duration": 0.016378,
     "end_time": "2024-09-26T03:12:31.969210",
     "exception": false,
     "start_time": "2024-09-26T03:12:31.952832",
     "status": "completed"
    },
    "tags": []
   },
   "outputs": [],
   "source": [
    "from sklearn.metrics import confusion_matrix\n",
    "from sklearn.metrics import roc_auc_score\n",
    "from sklearn.metrics import RocCurveDisplay\n",
    "from sklearn.model_selection import cross_val_score\n",
    "from sklearn.model_selection import GridSearchCV\n",
    "from sklearn.metrics import classification_report\n",
    "from sklearn.metrics import accuracy_score\n",
    "from sklearn.model_selection import RepeatedStratifiedKFold\n",
    "from sklearn.metrics import precision_recall_curve"
   ]
  },
  {
   "cell_type": "code",
   "execution_count": 10,
   "id": "89d9a307",
   "metadata": {
    "execution": {
     "iopub.execute_input": "2024-09-26T03:12:31.983728Z",
     "iopub.status.busy": "2024-09-26T03:12:31.983339Z",
     "iopub.status.idle": "2024-09-26T03:12:32.295271Z",
     "shell.execute_reply": "2024-09-26T03:12:32.294095Z"
    },
    "papermill": {
     "duration": 0.322194,
     "end_time": "2024-09-26T03:12:32.297880",
     "exception": false,
     "start_time": "2024-09-26T03:12:31.975686",
     "status": "completed"
    },
    "tags": []
   },
   "outputs": [
    {
     "data": {
      "text/plain": [
       "Counter({1: 400, 0: 400})"
      ]
     },
     "execution_count": 10,
     "metadata": {},
     "output_type": "execute_result"
    }
   ],
   "source": [
    "import imblearn\n",
    "from collections import Counter\n",
    "from imblearn.over_sampling import SMOTE\n",
    "from imblearn.under_sampling import RandomUnderSampler\n",
    "from imblearn.pipeline import Pipeline\n",
    "\n",
    "over = SMOTE(sampling_strategy = 1)\n",
    "x_resam, y_resam = over.fit_resample(train_x, train_y)\n",
    "Counter(y_resam)"
   ]
  },
  {
   "cell_type": "code",
   "execution_count": 11,
   "id": "e608b0f2",
   "metadata": {
    "execution": {
     "iopub.execute_input": "2024-09-26T03:12:32.313946Z",
     "iopub.status.busy": "2024-09-26T03:12:32.312674Z",
     "iopub.status.idle": "2024-09-26T03:12:32.318156Z",
     "shell.execute_reply": "2024-09-26T03:12:32.316902Z"
    },
    "papermill": {
     "duration": 0.015664,
     "end_time": "2024-09-26T03:12:32.320355",
     "exception": false,
     "start_time": "2024-09-26T03:12:32.304691",
     "status": "completed"
    },
    "tags": []
   },
   "outputs": [],
   "source": [
    "#x_train_re, x_test_re, y_train_re, y_test_re = train_test_split(x_resam, y_resam, test_size=0.2, random_state=1)"
   ]
  },
  {
   "cell_type": "code",
   "execution_count": 12,
   "id": "f3f1af4d",
   "metadata": {
    "execution": {
     "iopub.execute_input": "2024-09-26T03:12:32.334871Z",
     "iopub.status.busy": "2024-09-26T03:12:32.334460Z",
     "iopub.status.idle": "2024-09-26T03:12:32.339764Z",
     "shell.execute_reply": "2024-09-26T03:12:32.338528Z"
    },
    "papermill": {
     "duration": 0.015338,
     "end_time": "2024-09-26T03:12:32.342237",
     "exception": false,
     "start_time": "2024-09-26T03:12:32.326899",
     "status": "completed"
    },
    "tags": []
   },
   "outputs": [],
   "source": [
    "def model(classifier,xtrain,ytrain):\n",
    "    classifier.fit(xtrain,ytrain)\n",
    "    return classifier"
   ]
  },
  {
   "cell_type": "code",
   "execution_count": 13,
   "id": "5291d70c",
   "metadata": {
    "execution": {
     "iopub.execute_input": "2024-09-26T03:12:32.356680Z",
     "iopub.status.busy": "2024-09-26T03:12:32.356269Z",
     "iopub.status.idle": "2024-09-26T03:12:32.365832Z",
     "shell.execute_reply": "2024-09-26T03:12:32.364699Z"
    },
    "papermill": {
     "duration": 0.019485,
     "end_time": "2024-09-26T03:12:32.368111",
     "exception": false,
     "start_time": "2024-09-26T03:12:32.348626",
     "status": "completed"
    },
    "tags": []
   },
   "outputs": [],
   "source": [
    "def model_evaluation(classifier,xtest,ytest):\n",
    "    y_pred=classifier.predict(xtest)\n",
    "    acc=accuracy_score(ytest,y_pred)\n",
    "    #cv = RepeatedStratifiedKFold(n_splits = 10,n_repeats = 3,random_state = 1)\n",
    "    print(\"Accuracy : \",'{0:.2%}'.format(acc))\n",
    "    #print(\"Cross Validation Score : \",'{0:.2%}'.format(cross_val_score(classifier,x_train,y_train,cv = cv,scoring = 'roc_auc').mean()))\n",
    "    print(\"ROC_AUC Score : \",'{0:.2%}'.format(roc_auc_score(ytest,y_pred)))\n",
    "    print(\"#########  Confusion Matrix  ########\")\n",
    "    cm = confusion_matrix(ytest,y_pred)\n",
    "    names = ['True Neg','False Pos','False Neg','True Pos']\n",
    "    counts = [value for value in cm.flatten()]\n",
    "    percentages = ['{0:.2%}'.format(value) for value in cm.flatten()/np.sum(cm)]\n",
    "    labels = [f'{v1}\\n{v2}\\n{v3}' for v1, v2, v3 in zip(names,counts,percentages)]\n",
    "    labels = np.asarray(labels).reshape(2,2)\n",
    "    sns.heatmap(cm,annot = labels,cmap = 'Blues',fmt ='')\n",
    "    \n",
    "    # Classification Report\n",
    "    print(classification_report(ytest,y_pred))\n",
    "    data= {\n",
    "        'ytest': ytest,\n",
    "        'ypred': y_pred\n",
    "    }\n",
    "    \n",
    "    \n",
    "   \n",
    "    df2 = pd.DataFrame(data)\n",
    "    print(df2.head(10))"
   ]
  },
  {
   "cell_type": "code",
   "execution_count": 14,
   "id": "f0b281cd",
   "metadata": {
    "execution": {
     "iopub.execute_input": "2024-09-26T03:12:32.382692Z",
     "iopub.status.busy": "2024-09-26T03:12:32.382298Z",
     "iopub.status.idle": "2024-09-26T03:12:32.681789Z",
     "shell.execute_reply": "2024-09-26T03:12:32.680691Z"
    },
    "papermill": {
     "duration": 0.309879,
     "end_time": "2024-09-26T03:12:32.684366",
     "exception": false,
     "start_time": "2024-09-26T03:12:32.374487",
     "status": "completed"
    },
    "tags": []
   },
   "outputs": [
    {
     "name": "stdout",
     "output_type": "stream",
     "text": [
      "Decision tree Classifier model for imbalanced dataset\n",
      "Accuracy :  73.38%\n",
      "ROC_AUC Score :  73.54%\n",
      "#########  Confusion Matrix  ########\n",
      "              precision    recall  f1-score   support\n",
      "\n",
      "           0       0.84      0.73      0.78       100\n",
      "           1       0.60      0.74      0.66        54\n",
      "\n",
      "    accuracy                           0.73       154\n",
      "   macro avg       0.72      0.74      0.72       154\n",
      "weighted avg       0.75      0.73      0.74       154\n",
      "\n",
      "     ytest  ypred\n",
      "488      0      0\n",
      "413      0      0\n",
      "112      0      0\n",
      "222      0      1\n",
      "711      0      1\n",
      "552      0      1\n",
      "607      0      0\n",
      "599      0      0\n",
      "409      1      1\n",
      "268      0      0\n"
     ]
    },
    {
     "data": {
      "image/png": "[encoded data removed]",
      "text/plain": [
       "<Figure size 640x480 with 2 Axes>"
      ]
     },
     "metadata": {},
     "output_type": "display_data"
    }
   ],
   "source": [
    "from sklearn.tree import DecisionTreeClassifier\n",
    "classifier_dt = DecisionTreeClassifier(random_state = 1000,max_depth = 4,min_samples_leaf = 1)\n",
    "print(\"Decision tree Classifier model for imbalanced dataset\")\n",
    "classifier_dt_im=model(classifier_dt,train_x,train_y)\n",
    "model_evaluation(classifier_dt_im,test_x,test_y)"
   ]
  },
  {
   "cell_type": "code",
   "execution_count": 15,
   "id": "7773dc9c",
   "metadata": {
    "execution": {
     "iopub.execute_input": "2024-09-26T03:12:32.700199Z",
     "iopub.status.busy": "2024-09-26T03:12:32.699774Z",
     "iopub.status.idle": "2024-09-26T03:12:33.230307Z",
     "shell.execute_reply": "2024-09-26T03:12:33.229168Z"
    },
    "papermill": {
     "duration": 0.541376,
     "end_time": "2024-09-26T03:12:33.232812",
     "exception": false,
     "start_time": "2024-09-26T03:12:32.691436",
     "status": "completed"
    },
    "tags": []
   },
   "outputs": [
    {
     "name": "stdout",
     "output_type": "stream",
     "text": [
      "RandomForestClassifier model for imbalanced dataset\n",
      "Accuracy :  73.38%\n",
      "ROC_AUC Score :  67.57%\n",
      "#########  Confusion Matrix  ########\n",
      "              precision    recall  f1-score   support\n",
      "\n",
      "           0       0.76      0.87      0.81       100\n",
      "           1       0.67      0.48      0.56        54\n",
      "\n",
      "    accuracy                           0.73       154\n",
      "   macro avg       0.71      0.68      0.68       154\n",
      "weighted avg       0.73      0.73      0.72       154\n",
      "\n",
      "     ytest  ypred\n",
      "488      0      0\n",
      "413      0      0\n",
      "112      0      0\n",
      "222      0      0\n",
      "711      0      0\n",
      "552      0      0\n",
      "607      0      0\n",
      "599      0      0\n",
      "409      1      1\n",
      "268      0      0\n"
     ]
    },
    {
     "data": {
      "image/png": "[encoded data removed]",
      "text/plain": [
       "<Figure size 640x480 with 2 Axes>"
      ]
     },
     "metadata": {},
     "output_type": "display_data"
    }
   ],
   "source": [
    "from sklearn.ensemble import RandomForestClassifier\n",
    "rf = RandomForestClassifier(n_estimators=100,random_state = 42)\n",
    "print(\"RandomForestClassifier model for imbalanced dataset\")\n",
    "classifier_rf=model(rf,train_x,train_y)\n",
    "model_evaluation(classifier_rf,test_x,test_y)"
   ]
  },
  {
   "cell_type": "code",
   "execution_count": 16,
   "id": "018dc3a9",
   "metadata": {
    "execution": {
     "iopub.execute_input": "2024-09-26T03:12:33.249488Z",
     "iopub.status.busy": "2024-09-26T03:12:33.249055Z",
     "iopub.status.idle": "2024-09-26T03:12:33.254139Z",
     "shell.execute_reply": "2024-09-26T03:12:33.253088Z"
    },
    "papermill": {
     "duration": 0.016143,
     "end_time": "2024-09-26T03:12:33.256374",
     "exception": false,
     "start_time": "2024-09-26T03:12:33.240231",
     "status": "completed"
    },
    "tags": []
   },
   "outputs": [],
   "source": [
    "from sklearn.ensemble import BaggingClassifier, ExtraTreesClassifier, RandomForestClassifier, AdaBoostClassifier, GradientBoostingClassifier\n"
   ]
  },
  {
   "cell_type": "code",
   "execution_count": 17,
   "id": "1ea00e51",
   "metadata": {
    "execution": {
     "iopub.execute_input": "2024-09-26T03:12:33.273196Z",
     "iopub.status.busy": "2024-09-26T03:12:33.272716Z",
     "iopub.status.idle": "2024-09-26T03:12:34.470521Z",
     "shell.execute_reply": "2024-09-26T03:12:34.469248Z"
    },
    "papermill": {
     "duration": 1.209061,
     "end_time": "2024-09-26T03:12:34.473075",
     "exception": false,
     "start_time": "2024-09-26T03:12:33.264014",
     "status": "completed"
    },
    "tags": []
   },
   "outputs": [
    {
     "name": "stdout",
     "output_type": "stream",
     "text": [
      "ExtraTreesClassifier model for imbalanced dataset\n",
      "Accuracy :  73.38%\n",
      "ROC_AUC Score :  68.00%\n",
      "#########  Confusion Matrix  ########\n",
      "              precision    recall  f1-score   support\n",
      "\n",
      "           0       0.76      0.86      0.81       100\n",
      "           1       0.66      0.50      0.57        54\n",
      "\n",
      "    accuracy                           0.73       154\n",
      "   macro avg       0.71      0.68      0.69       154\n",
      "weighted avg       0.73      0.73      0.72       154\n",
      "\n",
      "     ytest  ypred\n",
      "488      0      0\n",
      "413      0      0\n",
      "112      0      0\n",
      "222      0      1\n",
      "711      0      0\n",
      "552      0      0\n",
      "607      0      0\n",
      "599      0      0\n",
      "409      1      1\n",
      "268      0      0\n"
     ]
    },
    {
     "data": {
      "image/png": "[encoded data removed]",
      "text/plain": [
       "<Figure size 640x480 with 2 Axes>"
      ]
     },
     "metadata": {},
     "output_type": "display_data"
    }
   ],
   "source": [
    "classifier_bg=ExtraTreesClassifier(n_estimators=500)\n",
    "print(\"ExtraTreesClassifier model for imbalanced dataset\")\n",
    "classifier_ex=model(classifier_bg,train_x,train_y)\n",
    "model_evaluation(classifier_ex,test_x,test_y)"
   ]
  },
  {
   "cell_type": "code",
   "execution_count": 18,
   "id": "ade19ed7",
   "metadata": {
    "execution": {
     "iopub.execute_input": "2024-09-26T03:12:34.490855Z",
     "iopub.status.busy": "2024-09-26T03:12:34.490445Z",
     "iopub.status.idle": "2024-09-26T03:12:34.817369Z",
     "shell.execute_reply": "2024-09-26T03:12:34.816137Z"
    },
    "papermill": {
     "duration": 0.338729,
     "end_time": "2024-09-26T03:12:34.819917",
     "exception": false,
     "start_time": "2024-09-26T03:12:34.481188",
     "status": "completed"
    },
    "tags": []
   },
   "outputs": [
    {
     "name": "stdout",
     "output_type": "stream",
     "text": [
      "Logistic regression model for imbalanced dataset\n",
      "Accuracy :  78.57%\n",
      "ROC_AUC Score :  72.85%\n",
      "#########  Confusion Matrix  ########\n",
      "              precision    recall  f1-score   support\n",
      "\n",
      "           0       0.79      0.92      0.85       100\n",
      "           1       0.78      0.54      0.64        54\n",
      "\n",
      "    accuracy                           0.79       154\n",
      "   macro avg       0.79      0.73      0.74       154\n",
      "weighted avg       0.79      0.79      0.77       154\n",
      "\n",
      "     ytest  ypred\n",
      "488      0      0\n",
      "413      0      0\n",
      "112      0      0\n",
      "222      0      0\n",
      "711      0      0\n",
      "552      0      0\n",
      "607      0      0\n",
      "599      0      0\n",
      "409      1      1\n",
      "268      0      0\n"
     ]
    },
    {
     "data": {
      "image/png": "[encoded data removed]",
      "text/plain": [
       "<Figure size 640x480 with 2 Axes>"
      ]
     },
     "metadata": {},
     "output_type": "display_data"
    }
   ],
   "source": [
    "from sklearn.linear_model import LogisticRegression\n",
    "classifier_lr = LogisticRegression(max_iter=500)\n",
    "print(\"Logistic regression model for imbalanced dataset\")\n",
    "classifier_lr_im=model(classifier_lr,train_x,train_y)\n",
    "model_evaluation(classifier_lr_im,test_x,test_y)"
   ]
  },
  {
   "cell_type": "code",
   "execution_count": 19,
   "id": "4192210a",
   "metadata": {
    "execution": {
     "iopub.execute_input": "2024-09-26T03:12:34.838569Z",
     "iopub.status.busy": "2024-09-26T03:12:34.838175Z",
     "iopub.status.idle": "2024-09-26T03:12:35.489499Z",
     "shell.execute_reply": "2024-09-26T03:12:35.488375Z"
    },
    "papermill": {
     "duration": 0.663425,
     "end_time": "2024-09-26T03:12:35.491904",
     "exception": false,
     "start_time": "2024-09-26T03:12:34.828479",
     "status": "completed"
    },
    "tags": []
   },
   "outputs": [
    {
     "name": "stdout",
     "output_type": "stream",
     "text": [
      "GradientBoostingClassifier model for imbalanced dataset\n",
      "Accuracy :  76.62%\n",
      "ROC_AUC Score :  71.78%\n",
      "#########  Confusion Matrix  ########\n",
      "              precision    recall  f1-score   support\n",
      "\n",
      "           0       0.79      0.88      0.83       100\n",
      "           1       0.71      0.56      0.63        54\n",
      "\n",
      "    accuracy                           0.77       154\n",
      "   macro avg       0.75      0.72      0.73       154\n",
      "weighted avg       0.76      0.77      0.76       154\n",
      "\n",
      "     ytest  ypred\n",
      "488      0      0\n",
      "413      0      0\n",
      "112      0      0\n",
      "222      0      0\n",
      "711      0      0\n",
      "552      0      0\n",
      "607      0      0\n",
      "599      0      0\n",
      "409      1      1\n",
      "268      0      0\n"
     ]
    },
    {
     "data": {
      "image/png": "[encoded data removed]",
      "text/plain": [
       "<Figure size 640x480 with 2 Axes>"
      ]
     },
     "metadata": {},
     "output_type": "display_data"
    }
   ],
   "source": [
    "from sklearn.ensemble import  GradientBoostingClassifier\n",
    "gb=GradientBoostingClassifier(n_estimators=150)\n",
    "print(\"GradientBoostingClassifier model for imbalanced dataset\")\n",
    "classifier_gb_im=model(gb,train_x,train_y)\n",
    "model_evaluation(classifier_gb_im,test_x,test_y)"
   ]
  },
  {
   "cell_type": "code",
   "execution_count": 20,
   "id": "e06d6b48",
   "metadata": {
    "execution": {
     "iopub.execute_input": "2024-09-26T03:12:35.512238Z",
     "iopub.status.busy": "2024-09-26T03:12:35.511818Z",
     "iopub.status.idle": "2024-09-26T03:12:35.820834Z",
     "shell.execute_reply": "2024-09-26T03:12:35.819781Z"
    },
    "papermill": {
     "duration": 0.322256,
     "end_time": "2024-09-26T03:12:35.823232",
     "exception": false,
     "start_time": "2024-09-26T03:12:35.500976",
     "status": "completed"
    },
    "tags": []
   },
   "outputs": [
    {
     "name": "stdout",
     "output_type": "stream",
     "text": [
      "GradientBoostingClassifier model for imbalanced dataset\n",
      "Accuracy :  72.08%\n",
      "ROC_AUC Score :  65.30%\n",
      "#########  Confusion Matrix  ########\n",
      "              precision    recall  f1-score   support\n",
      "\n",
      "           0       0.74      0.88      0.80       100\n",
      "           1       0.66      0.43      0.52        54\n",
      "\n",
      "    accuracy                           0.72       154\n",
      "   macro avg       0.70      0.65      0.66       154\n",
      "weighted avg       0.71      0.72      0.70       154\n",
      "\n",
      "     ytest  ypred\n",
      "488      0      0\n",
      "413      0      0\n",
      "112      0      0\n",
      "222      0      1\n",
      "711      0      0\n",
      "552      0      0\n",
      "607      0      0\n",
      "599      0      0\n",
      "409      1      0\n",
      "268      0      0\n"
     ]
    },
    {
     "data": {
      "image/png": "[encoded data removed]",
      "text/plain": [
       "<Figure size 640x480 with 2 Axes>"
      ]
     },
     "metadata": {},
     "output_type": "display_data"
    }
   ],
   "source": [
    "from sklearn.svm import SVC\n",
    "model_svc = SVC()\n",
    "print(\"GradientBoostingClassifier model for imbalanced dataset\")\n",
    "classifier_svc=model(model_svc,train_x,train_y)\n",
    "model_evaluation(classifier_svc,test_x,test_y)"
   ]
  },
  {
   "cell_type": "code",
   "execution_count": 21,
   "id": "a31cdc7b",
   "metadata": {
    "execution": {
     "iopub.execute_input": "2024-09-26T03:12:35.844982Z",
     "iopub.status.busy": "2024-09-26T03:12:35.843914Z",
     "iopub.status.idle": "2024-09-26T03:12:35.852270Z",
     "shell.execute_reply": "2024-09-26T03:12:35.850819Z"
    },
    "papermill": {
     "duration": 0.021687,
     "end_time": "2024-09-26T03:12:35.854484",
     "exception": false,
     "start_time": "2024-09-26T03:12:35.832797",
     "status": "completed"
    },
    "tags": []
   },
   "outputs": [
    {
     "name": "stdout",
     "output_type": "stream",
     "text": [
      "0.7857142857142857\n"
     ]
    }
   ],
   "source": [
    "# Best model logistic regression getting accuracy of 78.57%\n",
    "y_pred=classifier_lr_im.predict(test_x)\n",
    "accuracy = accuracy_score(test_y, y_pred)\n",
    "print(accuracy)"
   ]
  },
  {
   "cell_type": "code",
   "execution_count": 22,
   "id": "c2a1e943",
   "metadata": {
    "execution": {
     "iopub.execute_input": "2024-09-26T03:12:35.875636Z",
     "iopub.status.busy": "2024-09-26T03:12:35.875244Z",
     "iopub.status.idle": "2024-09-26T03:12:35.880998Z",
     "shell.execute_reply": "2024-09-26T03:12:35.880038Z"
    },
    "papermill": {
     "duration": 0.018934,
     "end_time": "2024-09-26T03:12:35.883174",
     "exception": false,
     "start_time": "2024-09-26T03:12:35.864240",
     "status": "completed"
    },
    "tags": []
   },
   "outputs": [],
   "source": [
    "import pickle\n",
    "pickle.dump(classifier_lr_im,open('/kaggle/working/diabetics_model.pkl','wb'))"
   ]
  }
 ],
 "metadata": {
  "kaggle": {
   "accelerator": "none",
   "dataSources": [
    {
     "datasetId": 3907445,
     "sourceId": 6792177,
     "sourceType": "datasetVersion"
    }
   ],
   "dockerImageVersionId": 30775,
   "isGpuEnabled": false,
   "isInternetEnabled": true,
   "language": "python",
   "sourceType": "notebook"
  },
  "kernelspec": {
   "display_name": "Python 3",
   "language": "python",
   "name": "python3"
  },
  "language_info": {
   "codemirror_mode": {
    "name": "ipython",
    "version": 3
   },
   "file_extension": ".py",
   "mimetype": "text/x-python",
   "name": "python",
   "nbconvert_exporter": "python",
   "pygments_lexer": "ipython3",
   "version": "3.10.14"
  },
  "papermill": {
   "default_parameters": {},
   "duration": 10.659973,
   "end_time": "2024-09-26T03:12:36.614983",
   "environment_variables": {},
   "exception": null,
   "input_path": "__notebook__.ipynb",
   "output_path": "__notebook__.ipynb",
   "parameters": {},
   "start_time": "2024-09-26T03:12:25.955010",
   "version": "2.6.0"
  }
 },
 "nbformat": 4,
 "nbformat_minor": 5
}
